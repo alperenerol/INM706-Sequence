{
 "cells": [
  {
   "cell_type": "code",
   "execution_count": 1,
   "id": "7bf45d09-3061-4077-93cc-0cdf9dd5ced3",
   "metadata": {},
   "outputs": [
    {
     "name": "stdout",
     "output_type": "stream",
     "text": [
      "Defaulting to user installation because normal site-packages is not writeable\n",
      "Requirement already satisfied: nltk in /opt/apps/flight/env/conda+jupyter/lib/python3.9/site-packages (3.6.5)\n",
      "Requirement already satisfied: click in /opt/apps/flight/env/conda+jupyter/lib/python3.9/site-packages (from nltk) (8.0.4)\n",
      "Requirement already satisfied: joblib in /opt/apps/flight/env/conda+jupyter/lib/python3.9/site-packages (from nltk) (1.1.0)\n",
      "Requirement already satisfied: regex>=2021.8.3 in /opt/apps/flight/env/conda+jupyter/lib/python3.9/site-packages (from nltk) (2021.11.2)\n",
      "Requirement already satisfied: tqdm in /users/adcy347/.local/lib/python3.9/site-packages (from nltk) (4.65.0)\n"
     ]
    }
   ],
   "source": [
    "!pip install nltk"
   ]
  },
  {
   "cell_type": "code",
   "execution_count": 2,
   "id": "5f21b2ac-29d1-492d-b3cd-ef301fb72a9d",
   "metadata": {},
   "outputs": [
    {
     "name": "stderr",
     "output_type": "stream",
     "text": [
      "[nltk_data] Downloading package punkt to /users/adcy347/nltk_data...\n",
      "[nltk_data]   Package punkt is already up-to-date!\n"
     ]
    }
   ],
   "source": [
    "import re\n",
    "import random\n",
    "from sklearn.model_selection import train_test_split\n",
    "from collections import Counter\n",
    "from torch.nn.utils.rnn import pad_sequence\n",
    "from torch.utils.data import DataLoader, Dataset\n",
    "import torch\n",
    "import torch.nn as nn\n",
    "import matplotlib.pyplot as plt\n",
    "import math\n",
    "import nltk\n",
    "nltk.download('punkt')\n",
    "from nltk.tokenize import word_tokenize\n",
    "import numpy as np\n",
    "\n",
    "# Load and preprocess the dataset\n",
    "def load_and_preprocess_data(file_path):\n",
    "    with open(file_path, 'r', encoding='utf-8') as f:\n",
    "        text = f.read()\n",
    "        \n",
    "    # Lowercase and remove non-alphanumeric characters except for periods and spaces\n",
    "    text = re.sub(r\"[^a-zA-Z0-9 .]+\", \" \", text).lower()\n",
    "    \n",
    "    # Split the text into sentences\n",
    "    sentences = re.split(r' *[\\.\\?!][\\'\"\\)\\]]* *', text)\n",
    "    \n",
    "    # Remove empty sentences\n",
    "    sentences = [s.strip() for s in sentences if len(s.strip()) > 0]\n",
    "    \n",
    "    return sentences\n",
    "\n",
    "file_path = \"merged_clean.txt\"\n",
    "sentences = load_and_preprocess_data(file_path)\n"
   ]
  },
  {
   "cell_type": "code",
   "execution_count": 3,
   "id": "f14f9512-f353-49a8-9756-e403cc3c7214",
   "metadata": {},
   "outputs": [
    {
     "data": {
      "text/plain": [
       "94905"
      ]
     },
     "execution_count": 3,
     "metadata": {},
     "output_type": "execute_result"
    }
   ],
   "source": [
    "len(sentences)"
   ]
  },
  {
   "cell_type": "code",
   "execution_count": 4,
   "id": "ecdf794b-6f44-45ce-8d7c-7ed3af765be7",
   "metadata": {},
   "outputs": [],
   "source": [
    "def create_mappings(sentences, min_word_freq=8):\n",
    "    # Tokenize the sentences using nltk's word_tokenize\n",
    "    tokenized_sentences = [word_tokenize(sentence) for sentence in sentences]\n",
    "    \n",
    "    words = [word for tokenized_sentence in tokenized_sentences for word in tokenized_sentence]\n",
    "    word_counts = Counter(words)\n",
    "    \n",
    "    # Filter out words with frequency less than min_word_freq\n",
    "    vocab = [word for word, count in word_counts.items() if count >= min_word_freq]\n",
    "    \n",
    "    # Add special tokens\n",
    "    vocab = ['<pad>', '<sos>', '<eos>', '<unk>'] + vocab\n",
    "    \n",
    "    word_to_index = {word: idx for idx, word in enumerate(vocab)}\n",
    "    index_to_word = {idx: word for word, idx in word_to_index.items()}\n",
    "    \n",
    "    return word_to_index, index_to_word, vocab\n"
   ]
  },
  {
   "cell_type": "code",
   "execution_count": 5,
   "id": "f07fa7a5-f247-4dbf-b027-229bb94ee421",
   "metadata": {},
   "outputs": [],
   "source": [
    "# Encode sentences as sequences of indices, add <sos> and <eos> tokens, and split the dataset\n",
    "def encode_sentences(sentences, word_to_index):\n",
    "    encoded_sentences = []\n",
    "    \n",
    "    for sentence in sentences:\n",
    "        tokenized_sentence = word_tokenize(sentence)\n",
    "        encoded_sentence = [word_to_index['<sos>']]\n",
    "        for word in tokenized_sentence:\n",
    "            encoded_sentence.append(word_to_index.get(word, word_to_index['<unk>']))\n",
    "        encoded_sentence.append(word_to_index['<eos>'])\n",
    "        \n",
    "        encoded_sentences.append(torch.tensor(encoded_sentence))\n",
    "    \n",
    "    return encoded_sentences"
   ]
  },
  {
   "cell_type": "code",
   "execution_count": 6,
   "id": "11f2727a-d7d4-4e75-aeaa-2fcaf2d47cb1",
   "metadata": {},
   "outputs": [],
   "source": [
    "word_to_index, index_to_word, vocab = create_mappings(sentences, min_word_freq=8)\n",
    "vocab_size = len(word_to_index)\n",
    "\n",
    "encoded_sentences = encode_sentences(sentences, word_to_index)\n",
    "data_size = len(encoded_sentences)\n",
    "test_split = int(data_size * 0.1)  # 10% for testing\n",
    "val_split = int(data_size * 0.2)  # 10% for validation\n",
    "\n",
    "test_data = encoded_sentences[:test_split]\n",
    "val_data = encoded_sentences[test_split:val_split]\n",
    "train_data = encoded_sentences[val_split:]"
   ]
  },
  {
   "cell_type": "code",
   "execution_count": 7,
   "id": "7fc96ba0-f861-4575-b1a9-1d02f95938a6",
   "metadata": {},
   "outputs": [
    {
     "data": {
      "text/plain": [
       "10144"
      ]
     },
     "execution_count": 7,
     "metadata": {},
     "output_type": "execute_result"
    }
   ],
   "source": [
    "len(word_to_index)"
   ]
  },
  {
   "cell_type": "code",
   "execution_count": 8,
   "id": "140c8a7d-7d74-419b-aaa0-fea09a02afc3",
   "metadata": {},
   "outputs": [],
   "source": [
    "# Create DataLoader objects for training, validation, and testing sets\n",
    "class PaddedDataset(Dataset):\n",
    "    def __init__(self, data):\n",
    "        self.data = data\n",
    "    \n",
    "    def __len__(self):\n",
    "        return len(self.data)\n",
    "    \n",
    "    def __getitem__(self, idx):\n",
    "        return self.data[idx]\n",
    "\n",
    "def pad_collate_fn(batch):\n",
    "    return pad_sequence(batch, batch_first=True, padding_value=word_to_index['<pad>'])\n",
    "\n",
    "train_dataset = PaddedDataset(train_data)\n",
    "val_dataset = PaddedDataset(val_data)\n",
    "test_dataset = PaddedDataset(test_data)\n",
    "\n",
    "batch_size = 128\n",
    "\n",
    "train_loader = DataLoader(train_dataset, batch_size=batch_size, shuffle=False, collate_fn=pad_collate_fn)\n",
    "val_loader = DataLoader(val_dataset, batch_size=batch_size, shuffle=False, collate_fn=pad_collate_fn)\n",
    "test_loader = DataLoader(test_dataset, batch_size=batch_size, shuffle=False, collate_fn=pad_collate_fn)\n"
   ]
  },
  {
   "cell_type": "code",
   "execution_count": 9,
   "id": "cb12d084-58bf-4456-934e-433fd56ec15e",
   "metadata": {},
   "outputs": [],
   "source": [
    "import numpy as np\n",
    "\n",
    "def load_glove_embeddings(file_path):\n",
    "    embeddings = {}\n",
    "    with open(file_path, \"r\", encoding=\"utf-8\") as file:\n",
    "        for line in file:\n",
    "            values = line.split()\n",
    "            word = values[0]\n",
    "            try:\n",
    "                vector = np.asarray(values[1:], dtype=\"float32\")\n",
    "                embeddings[word] = vector\n",
    "            except ValueError:\n",
    "                print(\"Skipping line containing non-float value(s)\")\n",
    "    return embeddings\n",
    "\n",
    "\n"
   ]
  },
  {
   "cell_type": "code",
   "execution_count": 10,
   "id": "c79d456c-82b6-499f-8186-f6775fc0a048",
   "metadata": {},
   "outputs": [],
   "source": [
    "def create_embedding_matrix(embeddings, word_to_index, embedding_dim):\n",
    "    vocab_size = len(word_to_index)\n",
    "    embedding_matrix = np.zeros((vocab_size, embedding_dim))\n",
    "\n",
    "    for word, index in word_to_index.items():\n",
    "        if word in embeddings:\n",
    "            embedding_matrix[index] = embeddings[word]\n",
    "        else:\n",
    "            embedding_matrix[index] = np.random.uniform(-0.1, 0.1, embedding_dim)\n",
    "    \n",
    "    return torch.tensor(embedding_matrix, dtype=torch.float32)\n",
    "\n",
    "embedding_dim = 300\n"
   ]
  },
  {
   "cell_type": "code",
   "execution_count": null,
   "id": "a60372c3-189d-4374-be10-48f3bd306053",
   "metadata": {},
   "outputs": [],
   "source": [
    "glove_file_path = \"./glove_embeddings/glove.840B.300d.txt\"\n",
    "glove_embeddings = load_glove_embeddings(glove_file_path)"
   ]
  },
  {
   "cell_type": "code",
   "execution_count": 21,
   "id": "5e21d4a3-5f3a-4722-ac9d-305b894e6c9c",
   "metadata": {},
   "outputs": [],
   "source": [
    "# Save the embeddings dictionary to a file\n",
    "with open('glove_embeddings.pkl', 'wb') as f:\n",
    "    pickle.dump(glove_embeddings, f)"
   ]
  },
  {
   "cell_type": "code",
   "execution_count": 11,
   "id": "deb93b5c-e42e-42ed-a924-a2614b5352c4",
   "metadata": {},
   "outputs": [],
   "source": [
    "import pickle\n",
    "# Load the saved embeddings when needed\n",
    "with open('glove_embeddings.pkl', 'rb') as f:\n",
    "    loaded_embeddings = pickle.load(f)"
   ]
  },
  {
   "cell_type": "code",
   "execution_count": 12,
   "id": "e093cc20-6eb9-4dc9-9bb5-1c710bb9648f",
   "metadata": {},
   "outputs": [],
   "source": [
    "embedding_matrix = create_embedding_matrix(loaded_embeddings, word_to_index, embedding_dim)"
   ]
  },
  {
   "cell_type": "code",
   "execution_count": 28,
   "id": "36897194-9229-4701-b4e7-3d64d967166f",
   "metadata": {},
   "outputs": [],
   "source": [
    "# Define the encoder-decoder LSTM model\n",
    "class Encoder(nn.Module):\n",
    "    def __init__(self, vocab_size, embedding_dim, hidden_dim, num_layers, embedding_matrix, dropout_rate=0.3):\n",
    "        super(Encoder, self).__init__()\n",
    "        self.embedding = nn.Embedding.from_pretrained(embedding_matrix, freeze=False)  # Use the pre-trained embedding matrix\n",
    "        self.lstm = nn.LSTM(embedding_dim, hidden_dim, num_layers, batch_first=True)\n",
    "        self.dropout = nn.Dropout(dropout_rate)\n",
    "        \n",
    "    def forward(self, x):\n",
    "        x = self.embedding(x)\n",
    "        x = self.dropout(x)\n",
    "        _, hidden = self.lstm(x)\n",
    "        return hidden\n",
    "\n",
    "class Decoder(nn.Module):\n",
    "    def __init__(self, vocab_size, embedding_dim, hidden_dim, num_layers, embedding_matrix, dropout_rate=0.3):\n",
    "        super(Decoder, self).__init__()\n",
    "        self.embedding = nn.Embedding.from_pretrained(embedding_matrix, freeze=False)  # Use the pre-trained embedding matrix\n",
    "        self.lstm = nn.LSTM(embedding_dim, hidden_dim, num_layers, batch_first=True)\n",
    "        self.fc = nn.Linear(hidden_dim, vocab_size)\n",
    "        self.dropout = nn.Dropout(dropout_rate)\n",
    "        \n",
    "    def forward(self, x, hidden):\n",
    "        x = self.embedding(x)\n",
    "        x = self.dropout(x)\n",
    "        output, hidden = self.lstm(x, hidden)\n",
    "        output = self.fc(output)\n",
    "        return output, hidden\n"
   ]
  },
  {
   "cell_type": "code",
   "execution_count": 29,
   "id": "b1042e99-c8b5-4a56-908c-a0285c46d490",
   "metadata": {},
   "outputs": [],
   "source": [
    "# Initialize the encoder, decoder, loss function, and optimizer\n",
    "hidden_dim = 512\n",
    "num_layers = 2\n",
    "learning_rate = 0.0001\n",
    "\n",
    "encoder = Encoder(vocab_size, embedding_dim, hidden_dim, num_layers, embedding_matrix, dropout_rate=0.3).cuda()\n",
    "decoder = Decoder(vocab_size, embedding_dim, hidden_dim, num_layers, embedding_matrix, dropout_rate=0.3).cuda()\n",
    "criterion = nn.CrossEntropyLoss(ignore_index=word_to_index['<pad>'])\n",
    "params = list(encoder.parameters()) + list(decoder.parameters())\n",
    "optimizer = torch.optim.Adam(params, lr=learning_rate)\n"
   ]
  },
  {
   "cell_type": "code",
   "execution_count": 33,
   "id": "c3d2d2e0-398c-4307-9746-70d92b002670",
   "metadata": {},
   "outputs": [],
   "source": [
    "# Load the saved models\n",
    "def load_models(encoder, decoder, encoder_checkpoint_path, decoder_checkpoint_path):\n",
    "    encoder.load_state_dict(torch.load(encoder_checkpoint_path))\n",
    "    decoder.load_state_dict(torch.load(decoder_checkpoint_path))\n",
    "\n",
    "# Specify the paths to the saved models\n",
    "encoder_checkpoint_path = \"encoder_epoch_final40.pt\"\n",
    "decoder_checkpoint_path = \"decoder_epoch_final40.pt\"\n",
    "\n",
    "# Initialize the models\n",
    "encoder_loaded = Encoder(vocab_size, embedding_dim, hidden_dim, num_layers, embedding_matrix, dropout_rate=0.3).cuda()\n",
    "decoder_loaded = Decoder(vocab_size, embedding_dim, hidden_dim, num_layers, embedding_matrix, dropout_rate=0.3).cuda()\n",
    "\n",
    "# Load the saved models\n",
    "load_models(encoder_loaded, decoder_loaded, encoder_checkpoint_path, decoder_checkpoint_path)\n"
   ]
  },
  {
   "cell_type": "code",
   "execution_count": 30,
   "id": "bfa52260-07eb-4337-b7b9-702c54d34c49",
   "metadata": {},
   "outputs": [],
   "source": [
    "# Evaluate the model\n",
    "def evaluate(encoder, decoder, dataloader, criterion):\n",
    "    encoder.eval()\n",
    "    decoder.eval()\n",
    "\n",
    "    total_loss = 0\n",
    "\n",
    "    with torch.no_grad():\n",
    "        for batch_idx, batch in enumerate(dataloader):\n",
    "            inputs = batch.cuda()\n",
    "            targets = batch.cuda()\n",
    "\n",
    "            # Encoder\n",
    "            encoder_hidden = encoder(inputs)\n",
    "\n",
    "            # Decoder\n",
    "            decoder_input = targets[:, :-1]\n",
    "            decoder_target = targets[:, 1:].contiguous().view(-1)\n",
    "            decoder_output, _ = decoder(decoder_input, encoder_hidden)\n",
    "\n",
    "            # Compute loss\n",
    "            loss = criterion(decoder_output.view(-1, vocab_size), decoder_target)\n",
    "            total_loss += loss.item()\n",
    "\n",
    "    avg_loss = total_loss / len(dataloader)\n",
    "    \n",
    "    # Restore the original modes\n",
    "    encoder.train()\n",
    "    decoder.train()\n",
    "    \n",
    "    return avg_loss\n",
    "\n",
    "#val_loss = evaluate(encoder, decoder, val_loader, criterion)\n",
    "#print(f\"Validation loss: {val_loss:.4f}\")\n"
   ]
  },
  {
   "cell_type": "code",
   "execution_count": 31,
   "id": "7c56c9bd-3738-43d7-96a1-7df73d284abb",
   "metadata": {},
   "outputs": [],
   "source": [
    "# Define the early stopping parameters\n",
    "patience = 5  # Number of epochs to wait before stopping training\n",
    "counter = 0  # Counter to track epochs without improvement\n",
    "best_val_loss = float('inf')  # Initialize the best validation loss\n"
   ]
  },
  {
   "cell_type": "code",
   "execution_count": 32,
   "id": "d069b542-b608-4833-8040-13c4b7cc349d",
   "metadata": {},
   "outputs": [],
   "source": [
    "# Train the model\n",
    "def train_and_validate(encoder, decoder, train_loader, val_loader, criterion, optimizer, epochs, save_interval, weight_decay=1e-5):\n",
    "    encoder.train()\n",
    "    decoder.train()\n",
    "    \n",
    "    train_losses = []\n",
    "    val_losses = []\n",
    "    \n",
    "    best_val_loss = float('inf')\n",
    "    counter = 0\n",
    "    \n",
    "    for epoch in range(epochs):\n",
    "        total_train_loss = 0\n",
    "        \n",
    "        for batch_idx, batch in enumerate(train_loader):\n",
    "            inputs = batch.cuda()\n",
    "            targets = batch.cuda()\n",
    "            \n",
    "            # Encoder\n",
    "            encoder_hidden = encoder(inputs)\n",
    "            \n",
    "            # Decoder\n",
    "            decoder_input = targets[:, :-1]\n",
    "            decoder_target = targets[:, 1:].contiguous().view(-1)\n",
    "            decoder_output, _ = decoder(decoder_input, encoder_hidden)\n",
    "            \n",
    "            # Compute loss and update weights\n",
    "            loss = criterion(decoder_output.view(-1, vocab_size), decoder_target)\n",
    "            \n",
    "            # Add L2 regularization\n",
    "            l2_reg = torch.tensor(0.).cuda()\n",
    "            for param in encoder.parameters():\n",
    "                l2_reg += torch.norm(param, p=2)\n",
    "            for param in decoder.parameters():\n",
    "                l2_reg += torch.norm(param, p=2)\n",
    "            loss += weight_decay * l2_reg\n",
    "            \n",
    "            optimizer.zero_grad()\n",
    "            loss.backward()\n",
    "            optimizer.step()\n",
    "            \n",
    "            total_train_loss += loss.item()\n",
    "        \n",
    "        avg_train_loss = total_train_loss / len(train_loader)\n",
    "        train_losses.append(avg_train_loss)\n",
    "        \n",
    "        # Validate\n",
    "        val_loss = evaluate(encoder, decoder, val_loader, criterion)\n",
    "        val_losses.append(val_loss)\n",
    "        \n",
    "        # early stopping\n",
    "        if val_loss < best_val_loss:\n",
    "            best_val_loss = val_loss\n",
    "            counter = 0\n",
    "        \n",
    "            print(f\"Epoch {epoch + 1}/{epochs}, Training Loss: {avg_train_loss:.4f}, Validation Loss: {val_loss:.4f}\")\n",
    "        \n",
    "            # Save the model every 20 epochs\n",
    "            if (epoch + 1) % save_interval == 0:\n",
    "                torch.save(encoder.state_dict(), f\"encoder_epoch_advanced{epoch + 1}.pt\")\n",
    "                torch.save(decoder.state_dict(), f\"decoder_epoch_advanced{epoch + 1}.pt\")\n",
    "        # early stopping\n",
    "        else:\n",
    "            counter += 1\n",
    "            print(f\"Early stopping counter: {counter}/{patience}\")\n",
    "\n",
    "            if counter >= patience:\n",
    "                print(\"Early stopping triggered.\")\n",
    "                torch.save(encoder.state_dict(), f\"encoder_epoch_advanced{epoch + 1}.pt\")\n",
    "                torch.save(decoder.state_dict(), f\"decoder_epoch_advanced{epoch + 1}.pt\")\n",
    "                break\n",
    "            \n",
    "    return train_losses, val_losses\n"
   ]
  },
  {
   "cell_type": "code",
   "execution_count": 33,
   "id": "59d67e4c-76e2-4237-a7da-f2a846e39e82",
   "metadata": {},
   "outputs": [
    {
     "name": "stdout",
     "output_type": "stream",
     "text": [
      "Epoch 1/1000, Training Loss: 6.4286, Validation Loss: 6.4055\n",
      "Epoch 2/1000, Training Loss: 6.0232, Validation Loss: 6.0747\n",
      "Epoch 3/1000, Training Loss: 5.7165, Validation Loss: 5.8595\n",
      "Epoch 4/1000, Training Loss: 5.5377, Validation Loss: 5.7489\n",
      "Epoch 5/1000, Training Loss: 5.4047, Validation Loss: 5.6017\n",
      "Epoch 6/1000, Training Loss: 5.2176, Validation Loss: 5.4519\n",
      "Epoch 7/1000, Training Loss: 5.0915, Validation Loss: 5.3569\n",
      "Epoch 8/1000, Training Loss: 4.9776, Validation Loss: 5.2485\n",
      "Epoch 9/1000, Training Loss: 4.8606, Validation Loss: 5.1464\n",
      "Epoch 10/1000, Training Loss: 4.7415, Validation Loss: 5.0302\n",
      "Epoch 11/1000, Training Loss: 4.6203, Validation Loss: 4.9319\n",
      "Epoch 12/1000, Training Loss: 4.5044, Validation Loss: 4.8522\n",
      "Epoch 13/1000, Training Loss: 4.3941, Validation Loss: 4.7556\n",
      "Epoch 14/1000, Training Loss: 4.2864, Validation Loss: 4.6643\n",
      "Epoch 15/1000, Training Loss: 4.1793, Validation Loss: 4.5756\n",
      "Epoch 16/1000, Training Loss: 4.0839, Validation Loss: 4.4946\n",
      "Epoch 17/1000, Training Loss: 3.9882, Validation Loss: 4.4239\n",
      "Epoch 18/1000, Training Loss: 3.8941, Validation Loss: 4.3456\n",
      "Epoch 19/1000, Training Loss: 3.8122, Validation Loss: 4.2702\n",
      "Epoch 20/1000, Training Loss: 3.7264, Validation Loss: 4.2058\n",
      "Early stopping counter: 1/5\n",
      "Epoch 22/1000, Training Loss: 3.6186, Validation Loss: 4.1300\n",
      "Epoch 23/1000, Training Loss: 3.5311, Validation Loss: 4.0459\n",
      "Epoch 24/1000, Training Loss: 3.4534, Validation Loss: 4.0080\n",
      "Epoch 25/1000, Training Loss: 3.4124, Validation Loss: 3.9660\n",
      "Epoch 26/1000, Training Loss: 3.3437, Validation Loss: 3.9117\n",
      "Epoch 27/1000, Training Loss: 3.2774, Validation Loss: 3.8801\n",
      "Epoch 28/1000, Training Loss: 3.2191, Validation Loss: 3.8328\n",
      "Epoch 29/1000, Training Loss: 3.1632, Validation Loss: 3.7924\n",
      "Epoch 30/1000, Training Loss: 3.1082, Validation Loss: 3.7522\n",
      "Epoch 31/1000, Training Loss: 3.0565, Validation Loss: 3.7049\n",
      "Epoch 32/1000, Training Loss: 3.0049, Validation Loss: 3.6740\n",
      "Epoch 33/1000, Training Loss: 2.9550, Validation Loss: 3.6316\n",
      "Epoch 34/1000, Training Loss: 2.9075, Validation Loss: 3.6098\n",
      "Epoch 35/1000, Training Loss: 2.8617, Validation Loss: 3.5784\n",
      "Epoch 36/1000, Training Loss: 2.8182, Validation Loss: 3.5351\n",
      "Epoch 37/1000, Training Loss: 2.7718, Validation Loss: 3.5013\n",
      "Epoch 38/1000, Training Loss: 2.7307, Validation Loss: 3.4611\n",
      "Epoch 39/1000, Training Loss: 2.6884, Validation Loss: 3.4360\n",
      "Epoch 40/1000, Training Loss: 2.6482, Validation Loss: 3.3986\n",
      "Epoch 41/1000, Training Loss: 2.6063, Validation Loss: 3.3701\n",
      "Epoch 42/1000, Training Loss: 2.5684, Validation Loss: 3.3386\n",
      "Epoch 43/1000, Training Loss: 2.5313, Validation Loss: 3.3296\n",
      "Epoch 44/1000, Training Loss: 2.4956, Validation Loss: 3.2952\n",
      "Epoch 45/1000, Training Loss: 2.4593, Validation Loss: 3.2536\n",
      "Epoch 46/1000, Training Loss: 2.4237, Validation Loss: 3.2367\n",
      "Epoch 47/1000, Training Loss: 2.3905, Validation Loss: 3.2036\n",
      "Epoch 48/1000, Training Loss: 2.3539, Validation Loss: 3.1902\n",
      "Epoch 49/1000, Training Loss: 2.3220, Validation Loss: 3.1642\n",
      "Epoch 50/1000, Training Loss: 2.2882, Validation Loss: 3.1322\n",
      "Epoch 51/1000, Training Loss: 2.2579, Validation Loss: 3.1293\n",
      "Epoch 52/1000, Training Loss: 2.2257, Validation Loss: 3.0889\n",
      "Epoch 53/1000, Training Loss: 2.1957, Validation Loss: 3.0710\n",
      "Epoch 54/1000, Training Loss: 2.1678, Validation Loss: 3.0539\n",
      "Epoch 55/1000, Training Loss: 2.1391, Validation Loss: 3.0160\n",
      "Epoch 56/1000, Training Loss: 2.1090, Validation Loss: 3.0147\n",
      "Epoch 57/1000, Training Loss: 2.0813, Validation Loss: 2.9997\n",
      "Epoch 58/1000, Training Loss: 2.0566, Validation Loss: 2.9909\n",
      "Epoch 59/1000, Training Loss: 2.0293, Validation Loss: 2.9761\n",
      "Epoch 60/1000, Training Loss: 2.0052, Validation Loss: 2.9413\n",
      "Epoch 61/1000, Training Loss: 1.9843, Validation Loss: 2.9331\n",
      "Epoch 62/1000, Training Loss: 1.9600, Validation Loss: 2.9258\n",
      "Epoch 63/1000, Training Loss: 1.9411, Validation Loss: 2.9066\n",
      "Epoch 64/1000, Training Loss: 1.9184, Validation Loss: 2.8992\n",
      "Epoch 65/1000, Training Loss: 1.8931, Validation Loss: 2.8727\n",
      "Epoch 66/1000, Training Loss: 1.8671, Validation Loss: 2.8677\n",
      "Epoch 67/1000, Training Loss: 1.8467, Validation Loss: 2.8629\n",
      "Epoch 68/1000, Training Loss: 1.8275, Validation Loss: 2.8452\n",
      "Epoch 69/1000, Training Loss: 1.7995, Validation Loss: 2.8119\n",
      "Epoch 70/1000, Training Loss: 1.7782, Validation Loss: 2.7975\n",
      "Epoch 71/1000, Training Loss: 1.7573, Validation Loss: 2.7890\n",
      "Epoch 72/1000, Training Loss: 1.7343, Validation Loss: 2.7637\n",
      "Epoch 73/1000, Training Loss: 1.7146, Validation Loss: 2.7527\n",
      "Epoch 74/1000, Training Loss: 1.6945, Validation Loss: 2.7430\n",
      "Epoch 75/1000, Training Loss: 1.6738, Validation Loss: 2.7333\n",
      "Epoch 76/1000, Training Loss: 1.6555, Validation Loss: 2.7277\n",
      "Epoch 77/1000, Training Loss: 1.6393, Validation Loss: 2.7103\n",
      "Early stopping counter: 1/5\n",
      "Epoch 79/1000, Training Loss: 1.6090, Validation Loss: 2.6864\n",
      "Epoch 80/1000, Training Loss: 1.5937, Validation Loss: 2.6778\n",
      "Epoch 81/1000, Training Loss: 1.5820, Validation Loss: 2.6590\n",
      "Epoch 82/1000, Training Loss: 1.5639, Validation Loss: 2.6576\n",
      "Epoch 83/1000, Training Loss: 1.5443, Validation Loss: 2.6431\n",
      "Early stopping counter: 1/5\n",
      "Epoch 85/1000, Training Loss: 1.5037, Validation Loss: 2.6350\n",
      "Epoch 86/1000, Training Loss: 1.4821, Validation Loss: 2.6106\n",
      "Epoch 87/1000, Training Loss: 1.4641, Validation Loss: 2.5951\n",
      "Epoch 88/1000, Training Loss: 1.4439, Validation Loss: 2.5735\n",
      "Early stopping counter: 1/5\n",
      "Epoch 90/1000, Training Loss: 1.4144, Validation Loss: 2.5686\n",
      "Early stopping counter: 1/5\n",
      "Epoch 92/1000, Training Loss: 1.3820, Validation Loss: 2.5466\n",
      "Early stopping counter: 1/5\n",
      "Epoch 94/1000, Training Loss: 1.3575, Validation Loss: 2.5295\n",
      "Early stopping counter: 1/5\n",
      "Epoch 96/1000, Training Loss: 1.3357, Validation Loss: 2.5271\n",
      "Epoch 97/1000, Training Loss: 1.3241, Validation Loss: 2.5261\n",
      "Epoch 98/1000, Training Loss: 1.3146, Validation Loss: 2.5050\n",
      "Epoch 99/1000, Training Loss: 1.3021, Validation Loss: 2.4912\n",
      "Epoch 100/1000, Training Loss: 1.2863, Validation Loss: 2.4840\n",
      "Epoch 101/1000, Training Loss: 1.2716, Validation Loss: 2.4762\n",
      "Early stopping counter: 1/5\n",
      "Epoch 103/1000, Training Loss: 1.2431, Validation Loss: 2.4694\n",
      "Epoch 104/1000, Training Loss: 1.2254, Validation Loss: 2.4619\n",
      "Early stopping counter: 1/5\n",
      "Epoch 106/1000, Training Loss: 1.2176, Validation Loss: 2.4463\n",
      "Epoch 107/1000, Training Loss: 1.1943, Validation Loss: 2.4411\n",
      "Epoch 108/1000, Training Loss: 1.1746, Validation Loss: 2.4229\n",
      "Epoch 109/1000, Training Loss: 1.1584, Validation Loss: 2.4090\n",
      "Early stopping counter: 1/5\n",
      "Epoch 111/1000, Training Loss: 1.1308, Validation Loss: 2.4015\n",
      "Epoch 112/1000, Training Loss: 1.1172, Validation Loss: 2.3960\n",
      "Epoch 113/1000, Training Loss: 1.1081, Validation Loss: 2.3930\n",
      "Epoch 114/1000, Training Loss: 1.0948, Validation Loss: 2.3799\n",
      "Early stopping counter: 1/5\n",
      "Epoch 116/1000, Training Loss: 1.0742, Validation Loss: 2.3770\n",
      "Early stopping counter: 1/5\n",
      "Epoch 118/1000, Training Loss: 1.0584, Validation Loss: 2.3715\n",
      "Early stopping counter: 1/5\n",
      "Early stopping counter: 2/5\n",
      "Epoch 121/1000, Training Loss: 1.0321, Validation Loss: 2.3603\n",
      "Early stopping counter: 1/5\n",
      "Early stopping counter: 2/5\n",
      "Early stopping counter: 3/5\n",
      "Early stopping counter: 4/5\n",
      "Early stopping counter: 5/5\n",
      "Early stopping triggered.\n"
     ]
    },
    {
     "data": {
      "image/png": "[encoded data removed]",
      "text/plain": [
       "<Figure size 432x288 with 1 Axes>"
      ]
     },
     "metadata": {
      "needs_background": "light"
     },
     "output_type": "display_data"
    }
   ],
   "source": [
    "def plot_losses(train_losses, val_losses):\n",
    "    plt.plot(train_losses, label=\"Training loss\")\n",
    "    plt.plot(val_losses, label=\"Validation loss\")\n",
    "    plt.xlabel(\"Epoch\")\n",
    "    plt.ylabel(\"Loss\")\n",
    "    plt.legend()\n",
    "    plt.show()\n",
    "\n",
    "save_interval = 20\n",
    "epochs = 1000\n",
    "train_losses, val_losses = train_and_validate(encoder, decoder, train_loader, val_loader, criterion, optimizer, epochs, save_interval)\n",
    "plot_losses(train_losses, val_losses)"
   ]
  },
  {
   "cell_type": "code",
   "execution_count": 34,
   "id": "6e55d306-4b3e-4dd8-98be-9d73dd39f1b7",
   "metadata": {},
   "outputs": [
    {
     "name": "stdout",
     "output_type": "stream",
     "text": [
      "Validation loss: 2.4010\n"
     ]
    }
   ],
   "source": [
    "val_loss = evaluate(encoder, decoder, val_loader, criterion)\n",
    "print(f\"Validation loss: {val_loss:.4f}\")"
   ]
  },
  {
   "cell_type": "code",
   "execution_count": 24,
   "id": "89e809ba-2e74-4d81-b816-be67dec13905",
   "metadata": {},
   "outputs": [],
   "source": [
    "# Generate new text\n",
    "def generate_text(encoder, decoder, seed_text, max_length=50, temperature=1.0):\n",
    "    encoder.eval()\n",
    "    decoder.eval()\n",
    "    \n",
    "    device = torch.device('cuda' if torch.cuda.is_available() else 'cpu')\n",
    "    encoder = encoder.to(device)\n",
    "    decoder = decoder.to(device)\n",
    "    \n",
    "    with torch.no_grad():\n",
    "        # Encode seed text\n",
    "        seed_tokens = [\"<sos>\"] + word_tokenize(seed_text) + [\"<eos>\"]\n",
    "        seed_indices = [word_to_index.get(word, word_to_index['<unk>']) for word in seed_tokens]\n",
    "        seed_tensor = torch.tensor(seed_indices).cuda().unsqueeze(0)\n",
    "        encoder_hidden = encoder(seed_tensor)\n",
    "\n",
    "        # Initialize decoder input with the <eos> token\n",
    "        decoder_input = torch.tensor([word_to_index['<eos>']]).cuda().unsqueeze(0)\n",
    "\n",
    "        generated_text = seed_text\n",
    "\n",
    "        for _ in range(max_length):\n",
    "            decoder_output, decoder_hidden = decoder(decoder_input, encoder_hidden)\n",
    "            probabilities = torch.softmax(decoder_output / temperature, dim=-1)\n",
    "\n",
    "            # Sample a token from the probability distribution\n",
    "            next_token_idx = torch.multinomial(probabilities.view(-1), 1).item()\n",
    "\n",
    "            if next_token_idx == word_to_index['<eos>']:\n",
    "                break\n",
    "\n",
    "            generated_text += \" \" + index_to_word[next_token_idx]\n",
    "            decoder_input = torch.tensor([next_token_idx]).cuda().unsqueeze(0)\n",
    "\n",
    "    return generated_text\n"
   ]
  },
  {
   "cell_type": "code",
   "execution_count": 25,
   "id": "e4f4d487-e59f-491f-87cf-af935bca5450",
   "metadata": {},
   "outputs": [
    {
     "name": "stdout",
     "output_type": "stream",
     "text": [
      "Once upon a time a young prince possesses requires chiming call scream important inquired sheehogues search beheld know countless fairy named digging foretold compel steep father fireworks ardan carpenter met reminded observations jewish digested an represented true urashima mightier ask superior nonsense only met malice lasso countess redbreast knowledge returning poor settled elfin consider within idea psalm\n"
     ]
    }
   ],
   "source": [
    "#seed_text = \"In a mystical land far away, there was an enchanted forest where magical creatures lived.\"\n",
    "#generated_text = generate_text(seed_text, model, tokenizer, max_length=100)\n",
    "\n",
    "seed_text = \"Once upon a time a young prince\"\n",
    "generated_output = generate_text(encoder, decoder, seed_text)\n",
    "print(generated_output)"
   ]
  },
  {
   "cell_type": "code",
   "execution_count": 35,
   "id": "bc46bacf-f8c8-4bcd-8bbe-37a95602fe74",
   "metadata": {},
   "outputs": [
    {
     "name": "stdout",
     "output_type": "stream",
     "text": [
      "Average Test Perplexity: 6.1748\n"
     ]
    }
   ],
   "source": [
    "def perplexity(loss):\n",
    "    return math.exp(loss)\n",
    "\n",
    "# Calculate perplexity\n",
    "test_loss = evaluate(encoder, decoder, test_loader, criterion)\n",
    "average_test_perplexity = perplexity(test_loss)\n",
    "print(f\"Average Test Perplexity: {average_test_perplexity:.4f}\")\n"
   ]
  },
  {
   "cell_type": "code",
   "execution_count": null,
   "id": "cb0b4a19-e571-4717-89f7-a32951ba356d",
   "metadata": {},
   "outputs": [],
   "source": []
  }
 ],
 "metadata": {
  "kernelspec": {
   "display_name": "Python 3 (ipykernel)",
   "language": "python",
   "name": "python3"
  },
  "language_info": {
   "codemirror_mode": {
    "name": "ipython",
    "version": 3
   },
   "file_extension": ".py",
   "mimetype": "text/x-python",
   "name": "python",
   "nbconvert_exporter": "python",
   "pygments_lexer": "ipython3",
   "version": "3.9.5"
  }
 },
 "nbformat": 4,
 "nbformat_minor": 5
}
